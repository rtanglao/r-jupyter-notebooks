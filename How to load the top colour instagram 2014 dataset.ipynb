{
 "cells": [
  {
   "cell_type": "code",
   "execution_count": 15,
   "metadata": {
    "collapsed": true
   },
   "outputs": [],
   "source": [
    "r = getOption(\"repos\") # hard code the UK repo for CRAN\n",
    "r[\"CRAN\"] = \"http://cran.uk.r-project.org\"\n",
    "options(repos = r)\n",
    "rm(r)"
   ]
  },
  {
   "cell_type": "code",
   "execution_count": 16,
   "metadata": {
    "collapsed": false,
    "scrolled": true
   },
   "outputs": [
    {
     "name": "stdout",
     "output_type": "stream",
     "text": [
      "\n",
      "The downloaded source packages are in\n",
      "\t‘/private/var/folders/v0/4gc0rf6x5t5bsjt77skb0_y00000gn/T/RtmpbTwMy1/downloaded_packages’\n"
     ]
    }
   ],
   "source": [
    "install.packages(\"ig.vancouver.2014.topcolour\")"
   ]
  },
  {
   "cell_type": "code",
   "execution_count": 17,
   "metadata": {
    "collapsed": true
   },
   "outputs": [],
   "source": [
    "library(ig.vancouver.2014.topcolour)"
   ]
  },
  {
   "cell_type": "code",
   "execution_count": 19,
   "metadata": {
    "collapsed": true
   },
   "outputs": [],
   "source": [
    "data(\"topcolour.ig.vancouver.2014\")"
   ]
  },
  {
   "cell_type": "code",
   "execution_count": 20,
   "metadata": {
    "collapsed": false
   },
   "outputs": [
    {
     "name": "stdout",
     "output_type": "stream",
     "text": [
      "'data.frame':\t245736 obs. of  2 variables:\n",
      " $ colour: Factor w/ 245736 levels \"#000000\",\"#000002\",..: 245736 244100 244077 242458 240150 245689 245650 244087 244088 239521 ...\n",
      " $ count : int  8010 6894 3861 3734 3229 2926 2719 2390 2154 2114 ...\n"
     ]
    }
   ],
   "source": [
    "str(topcolour.ig.vancouver.2014)"
   ]
  },
  {
   "cell_type": "code",
   "execution_count": 21,
   "metadata": {
    "collapsed": false
   },
   "outputs": [
    {
     "data": {
      "text/html": [
       "<table>\n",
       "<thead><tr><th></th><th scope=col>colour</th><th scope=col>count</th></tr></thead>\n",
       "<tbody>\n",
       "\t<tr><th scope=row>1</th><td>#FFFFFF</td><td>8010</td></tr>\n",
       "\t<tr><th scope=row>2</th><td>#FEFEFE</td><td>6894</td></tr>\n",
       "\t<tr><th scope=row>3</th><td>#FEFCFF</td><td>3861</td></tr>\n",
       "\t<tr><th scope=row>4</th><td>#FBFFFF</td><td>3734</td></tr>\n",
       "\t<tr><th scope=row>5</th><td>#F7FFFF</td><td>3229</td></tr>\n",
       "</tbody>\n",
       "</table>\n"
      ],
      "text/latex": [
       "\\begin{tabular}{r|ll}\n",
       "  & colour & count\\\\\n",
       "\\hline\n",
       "\t1 & #FFFFFF & 8010\\\\\n",
       "\t2 & #FEFEFE & 6894\\\\\n",
       "\t3 & #FEFCFF & 3861\\\\\n",
       "\t4 & #FBFFFF & 3734\\\\\n",
       "\t5 & #F7FFFF & 3229\\\\\n",
       "\\end{tabular}\n"
      ],
      "text/plain": [
       "   colour count\n",
       "1 #FFFFFF  8010\n",
       "2 #FEFEFE  6894\n",
       "3 #FEFCFF  3861\n",
       "4 #FBFFFF  3734\n",
       "5 #F7FFFF  3229"
      ]
     },
     "execution_count": 21,
     "metadata": {},
     "output_type": "execute_result"
    }
   ],
   "source": [
    "head(topcolour.ig.vancouver.2014, 5)"
   ]
  },
  {
   "cell_type": "code",
   "execution_count": null,
   "metadata": {
    "collapsed": true
   },
   "outputs": [],
   "source": []
  }
 ],
 "metadata": {
  "kernelspec": {
   "display_name": "R",
   "language": "",
   "name": "ir"
  },
  "language_info": {
   "codemirror_mode": "r",
   "file_extension": ".r",
   "mimetype": "text/x-r-source",
   "name": "R",
   "pygments_lexer": "r",
   "version": "3.2.0"
  }
 },
 "nbformat": 4,
 "nbformat_minor": 0
}
